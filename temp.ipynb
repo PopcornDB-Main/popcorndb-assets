{
 "cells": [
  {
   "cell_type": "code",
   "execution_count": 1,
   "id": "36ef85fb",
   "metadata": {},
   "outputs": [
    {
     "name": "stdout",
     "output_type": "stream",
     "text": [
      "Number of files in folder: 91993\n"
     ]
    }
   ],
   "source": [
    "import os\n",
    "\n",
    "def count_files_in_folder(folder_path):\n",
    "    return sum(1 for entry in os.listdir(folder_path) if os.path.isfile(os.path.join(folder_path, entry)))\n",
    "\n",
    "# Example usage\n",
    "folder = \"data/persons\"\n",
    "print(f\"Number of files in folder: {count_files_in_folder(folder)}\")"
   ]
  },
  {
   "cell_type": "code",
   "execution_count": null,
   "id": "8eee1acf",
   "metadata": {},
   "outputs": [],
   "source": []
  }
 ],
 "metadata": {
  "kernelspec": {
   "display_name": "venv (3.13.7)",
   "language": "python",
   "name": "python3"
  },
  "language_info": {
   "codemirror_mode": {
    "name": "ipython",
    "version": 3
   },
   "file_extension": ".py",
   "mimetype": "text/x-python",
   "name": "python",
   "nbconvert_exporter": "python",
   "pygments_lexer": "ipython3",
   "version": "3.13.7"
  }
 },
 "nbformat": 4,
 "nbformat_minor": 5
}
